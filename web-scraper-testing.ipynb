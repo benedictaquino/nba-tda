{
 "cells": [
  {
   "cell_type": "code",
   "execution_count": 1,
   "metadata": {},
   "outputs": [],
   "source": [
    "%load_ext autoreload\n",
    "%autoreload 2"
   ]
  },
  {
   "cell_type": "code",
   "execution_count": 2,
   "metadata": {},
   "outputs": [],
   "source": [
    "from time import time\n",
    "from selenium import webdriver\n",
    "import selenium.webdriver.chrome.options as c\n",
    "import selenium.webdriver.firefox.options as f\n",
    "from selenium.webdriver.common.by import By \n",
    "from selenium.webdriver.support.ui import WebDriverWait \n",
    "from selenium.webdriver.support import expected_conditions as EC \n",
    "from selenium.common.exceptions import TimeoutException\n",
    "import pandas as pd"
   ]
  },
  {
   "cell_type": "raw",
   "metadata": {},
   "source": [
    "chrome_options = c.Options()  \n",
    "# chrome_options.add_argument(\"--headless\")  \n",
    "# chrome_options.add_argument(\"--window-size=1920,1080\")\n",
    "chrome_options.add_experimental_option(\"prefs\", {\"profile.managed_default_content_settings.images\":2})\n",
    "\n",
    "driver = webdriver.Chrome(chrome_options=chrome_options,\n",
    "                          service_args=['--verbose', '--log-path=/tmp/chromedriver.log'])\n",
    "\n",
    "driver.get('https://www.basketball-reference.com/leagues/NBA_2018_per_minute.html')\n",
    "\n",
    "print(\"Basketball Reference been got\")\n",
    "\n",
    "timeout=20\n",
    "\n",
    "try:\n",
    "    WebDriverWait(driver, timeout).until(EC.visibility_of_element_located((By.CSS_SELECTOR, 'div.section_heading_text span[href=\"javascript:void(0)\"]')))\n",
    "    button1 = driver.find_element_by_css_selector('div.section_heading_text span[href=\"javascript:void(0)\"]')\n",
    "    button2 = driver.find_element_by_css_selector('[tip=\"Export table as <br>suitable for use with excel\"]')\n",
    "    button1.click()\n",
    "    button2.click()\n",
    "    csv = driver.find_element_by_id('csv_per_minute_stats').text\n",
    "    driver.close()\n",
    "    print(\"Success!\")\n",
    "    \n",
    "except TimeoutException:\n",
    "    print(\"Timed out waiting for page to load\")\n",
    "    driver.close()"
   ]
  },
  {
   "cell_type": "raw",
   "metadata": {},
   "source": [
    "with open('players2018.csv', 'w') as f:\n",
    "    f.write(csv)"
   ]
  },
  {
   "cell_type": "code",
   "execution_count": null,
   "metadata": {},
   "outputs": [
    {
     "name": "stdout",
     "output_type": "stream",
     "text": [
      "Scraping for the 1984-85 season\n",
      "Success!\n",
      "Scraping for the 1985-86 season\n"
     ]
    }
   ],
   "source": [
    "from src.web_scraper import *\n",
    "\n",
    "scrape_players(1985,2018)"
   ]
  }
 ],
 "metadata": {
  "kernelspec": {
   "display_name": "Python 3",
   "language": "python",
   "name": "python3"
  },
  "language_info": {
   "codemirror_mode": {
    "name": "ipython",
    "version": 3
   },
   "file_extension": ".py",
   "mimetype": "text/x-python",
   "name": "python",
   "nbconvert_exporter": "python",
   "pygments_lexer": "ipython3",
   "version": "3.6.6"
  }
 },
 "nbformat": 4,
 "nbformat_minor": 2
}
